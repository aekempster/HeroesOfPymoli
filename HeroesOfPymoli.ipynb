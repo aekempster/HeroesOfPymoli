{
 "cells": [
  {
   "cell_type": "code",
   "execution_count": 76,
   "metadata": {},
   "outputs": [],
   "source": [
    "import numpy as np\n",
    "import pandas as pd"
   ]
  },
  {
   "cell_type": "code",
   "execution_count": 77,
   "metadata": {},
   "outputs": [
    {
     "data": {
      "text/html": [
       "<div>\n",
       "<style scoped>\n",
       "    .dataframe tbody tr th:only-of-type {\n",
       "        vertical-align: middle;\n",
       "    }\n",
       "\n",
       "    .dataframe tbody tr th {\n",
       "        vertical-align: top;\n",
       "    }\n",
       "\n",
       "    .dataframe thead th {\n",
       "        text-align: right;\n",
       "    }\n",
       "</style>\n",
       "<table border=\"1\" class=\"dataframe\">\n",
       "  <thead>\n",
       "    <tr style=\"text-align: right;\">\n",
       "      <th></th>\n",
       "      <th>SN</th>\n",
       "      <th>Age</th>\n",
       "      <th>Gender</th>\n",
       "      <th>Item ID</th>\n",
       "      <th>Item Name</th>\n",
       "      <th>Price</th>\n",
       "    </tr>\n",
       "  </thead>\n",
       "  <tbody>\n",
       "    <tr>\n",
       "      <th>0</th>\n",
       "      <td>Aelalis34</td>\n",
       "      <td>38</td>\n",
       "      <td>Male</td>\n",
       "      <td>165</td>\n",
       "      <td>Bone Crushing Silver Skewer</td>\n",
       "      <td>3.37</td>\n",
       "    </tr>\n",
       "    <tr>\n",
       "      <th>1</th>\n",
       "      <td>Eolo46</td>\n",
       "      <td>21</td>\n",
       "      <td>Male</td>\n",
       "      <td>119</td>\n",
       "      <td>Stormbringer, Dark Blade of Ending Misery</td>\n",
       "      <td>2.32</td>\n",
       "    </tr>\n",
       "    <tr>\n",
       "      <th>2</th>\n",
       "      <td>Assastnya25</td>\n",
       "      <td>34</td>\n",
       "      <td>Male</td>\n",
       "      <td>174</td>\n",
       "      <td>Primitive Blade</td>\n",
       "      <td>2.46</td>\n",
       "    </tr>\n",
       "    <tr>\n",
       "      <th>3</th>\n",
       "      <td>Pheusrical25</td>\n",
       "      <td>21</td>\n",
       "      <td>Male</td>\n",
       "      <td>92</td>\n",
       "      <td>Final Critic</td>\n",
       "      <td>1.36</td>\n",
       "    </tr>\n",
       "    <tr>\n",
       "      <th>4</th>\n",
       "      <td>Aela59</td>\n",
       "      <td>23</td>\n",
       "      <td>Male</td>\n",
       "      <td>63</td>\n",
       "      <td>Stormfury Mace</td>\n",
       "      <td>1.27</td>\n",
       "    </tr>\n",
       "  </tbody>\n",
       "</table>\n",
       "</div>"
      ],
      "text/plain": [
       "             SN  Age Gender  Item ID  \\\n",
       "0     Aelalis34   38   Male      165   \n",
       "1        Eolo46   21   Male      119   \n",
       "2   Assastnya25   34   Male      174   \n",
       "3  Pheusrical25   21   Male       92   \n",
       "4        Aela59   23   Male       63   \n",
       "\n",
       "                                   Item Name  Price  \n",
       "0                Bone Crushing Silver Skewer   3.37  \n",
       "1  Stormbringer, Dark Blade of Ending Misery   2.32  \n",
       "2                            Primitive Blade   2.46  \n",
       "3                               Final Critic   1.36  \n",
       "4                             Stormfury Mace   1.27  "
      ]
     },
     "execution_count": 77,
     "metadata": {},
     "output_type": "execute_result"
    }
   ],
   "source": [
    "purchase_data=pd.read_csv(\"resources/purchase_data.csv\")\n",
    "purchase_data.head()"
   ]
  },
  {
   "cell_type": "markdown",
   "metadata": {},
   "source": [
    "# Player Count"
   ]
  },
  {
   "cell_type": "code",
   "execution_count": 78,
   "metadata": {},
   "outputs": [
    {
     "data": {
      "text/plain": [
       "573"
      ]
     },
     "execution_count": 78,
     "metadata": {},
     "output_type": "execute_result"
    }
   ],
   "source": [
    "#player count\n",
    "player_count = purchase_data['SN'].nunique()\n",
    "player_count"
   ]
  },
  {
   "cell_type": "markdown",
   "metadata": {},
   "source": [
    "# Purchasing Analysis"
   ]
  },
  {
   "cell_type": "code",
   "execution_count": 20,
   "metadata": {},
   "outputs": [
    {
     "data": {
      "text/plain": [
       "183"
      ]
     },
     "execution_count": 20,
     "metadata": {},
     "output_type": "execute_result"
    }
   ],
   "source": [
    "#Number of Unique Items - by Item ID (This is true Item Count)\n",
    "itemCount = purchase_data['Item ID'].nunique()\n",
    "itemCount"
   ]
  },
  {
   "cell_type": "code",
   "execution_count": 21,
   "metadata": {},
   "outputs": [
    {
     "data": {
      "text/plain": [
       "179"
      ]
     },
     "execution_count": 21,
     "metadata": {},
     "output_type": "execute_result"
    }
   ],
   "source": [
    "#Number of Unique Items - by Item Name, for validation purposes only\n",
    "itemNameCount = purchase_data['Item Name'].nunique()\n",
    "itemNameCount"
   ]
  },
  {
   "cell_type": "code",
   "execution_count": 23,
   "metadata": {},
   "outputs": [
    {
     "data": {
      "text/plain": [
       "2.931192307692303"
      ]
     },
     "execution_count": 23,
     "metadata": {},
     "output_type": "execute_result"
    }
   ],
   "source": [
    "#Average Purchase Price\n",
    "averagePrice = purchase_data['Price'].mean()\n",
    "averagePrice"
   ]
  },
  {
   "cell_type": "code",
   "execution_count": 24,
   "metadata": {},
   "outputs": [
    {
     "data": {
      "text/plain": [
       "780"
      ]
     },
     "execution_count": 24,
     "metadata": {},
     "output_type": "execute_result"
    }
   ],
   "source": [
    "#Total Number of Purchases\n",
    "purchaseCount = len(purchase_data)\n",
    "purchaseCount"
   ]
  },
  {
   "cell_type": "code",
   "execution_count": 25,
   "metadata": {},
   "outputs": [
    {
     "data": {
      "text/plain": [
       "2286.33"
      ]
     },
     "execution_count": 25,
     "metadata": {},
     "output_type": "execute_result"
    }
   ],
   "source": [
    "#Total Revenue\n",
    "totalRevenue = purchase_data['Price'].sum()\n",
    "totalRevenue"
   ]
  },
  {
   "cell_type": "markdown",
   "metadata": {},
   "source": [
    "# Gender Demographics"
   ]
  },
  {
   "cell_type": "code",
   "execution_count": 48,
   "metadata": {},
   "outputs": [],
   "source": [
    "#Percentage and Count of Male Players\n",
    "#Percentage and Count of Female Players\n",
    "#Percentage and Count of Other / Non-Disclosed"
   ]
  },
  {
   "cell_type": "code",
   "execution_count": 49,
   "metadata": {},
   "outputs": [
    {
     "data": {
      "text/html": [
       "<div>\n",
       "<style scoped>\n",
       "    .dataframe tbody tr th:only-of-type {\n",
       "        vertical-align: middle;\n",
       "    }\n",
       "\n",
       "    .dataframe tbody tr th {\n",
       "        vertical-align: top;\n",
       "    }\n",
       "\n",
       "    .dataframe thead th {\n",
       "        text-align: right;\n",
       "    }\n",
       "</style>\n",
       "<table border=\"1\" class=\"dataframe\">\n",
       "  <thead>\n",
       "    <tr style=\"text-align: right;\">\n",
       "      <th></th>\n",
       "      <th>Percent of Total</th>\n",
       "      <th>Player Count</th>\n",
       "    </tr>\n",
       "    <tr>\n",
       "      <th></th>\n",
       "      <th></th>\n",
       "      <th></th>\n",
       "    </tr>\n",
       "  </thead>\n",
       "  <tbody>\n",
       "    <tr>\n",
       "      <th>Male</th>\n",
       "      <td>81.15%</td>\n",
       "      <td>465</td>\n",
       "    </tr>\n",
       "    <tr>\n",
       "      <th>Female</th>\n",
       "      <td>17.45%</td>\n",
       "      <td>100</td>\n",
       "    </tr>\n",
       "    <tr>\n",
       "      <th>Other/Non-Disclosed</th>\n",
       "      <td>1.40%</td>\n",
       "      <td>8</td>\n",
       "    </tr>\n",
       "  </tbody>\n",
       "</table>\n",
       "</div>"
      ],
      "text/plain": [
       "                    Percent of Total  Player Count\n",
       "                                                  \n",
       "Male                          81.15%           465\n",
       "Female                        17.45%           100\n",
       "Other/Non-Disclosed            1.40%             8"
      ]
     },
     "execution_count": 49,
     "metadata": {},
     "output_type": "execute_result"
    }
   ],
   "source": [
    "gender_df = purchase_data.drop_duplicates(subset='SN')\n",
    "Total = gender_df[\"Gender\"].count()\n",
    "Male_count = gender_df[\"Gender\"].value_counts()['Male']\n",
    "Female_count = gender_df[\"Gender\"].value_counts()['Female']\n",
    "Unknown_count = gender_df[\"Gender\"].value_counts()['Other / Non-Disclosed']\n",
    "\n",
    "Male_percent = (Male_count / Total) * 100\n",
    "Female_percent = (Female_count / Total) * 100\n",
    "Unknown_percent = (Unknown_count / Total) * 100\n",
    "\n",
    "# Create new DataFrame\n",
    "final_gender_df = pd.DataFrame({\"\": ['Male', 'Female', 'Other/Non-Disclosed'],\n",
    "                            \"Percent of Total\": [Male_percent, Female_percent, Unknown_percent],\n",
    "                            \"Player Count\": [Male_count, Female_count, Unknown_count]})\n",
    "\n",
    "final_gender_df[\"Percent of Total\"] = final_gender_df[\"Percent of Total\"].map(\"{:.2f}%\".format)\n",
    "final_gender_df = final_gender_df.set_index('')\n",
    "final_gender_df"
   ]
  },
  {
   "cell_type": "markdown",
   "metadata": {},
   "source": [
    "# Purchasing Analysis (Gender)"
   ]
  },
  {
   "cell_type": "code",
   "execution_count": 12,
   "metadata": {},
   "outputs": [],
   "source": [
    "#The below each broken by gender\n",
    "#Purchase Count\n",
    "#Average Purchase Price\n",
    "#Total Purchase Value\n",
    "#Normalized Totals"
   ]
  },
  {
   "cell_type": "code",
   "execution_count": 58,
   "metadata": {},
   "outputs": [
    {
     "data": {
      "text/html": [
       "<div>\n",
       "<style scoped>\n",
       "    .dataframe tbody tr th:only-of-type {\n",
       "        vertical-align: middle;\n",
       "    }\n",
       "\n",
       "    .dataframe tbody tr th {\n",
       "        vertical-align: top;\n",
       "    }\n",
       "\n",
       "    .dataframe thead th {\n",
       "        text-align: right;\n",
       "    }\n",
       "</style>\n",
       "<table border=\"1\" class=\"dataframe\">\n",
       "  <thead>\n",
       "    <tr style=\"text-align: right;\">\n",
       "      <th></th>\n",
       "      <th>Purchase Count</th>\n",
       "      <th>Average Purchase Price</th>\n",
       "      <th>Total Purchase Value</th>\n",
       "      <th>Normalized Totals</th>\n",
       "    </tr>\n",
       "  </thead>\n",
       "  <tbody>\n",
       "    <tr>\n",
       "      <th>Female</th>\n",
       "      <td>136.0</td>\n",
       "      <td>$2.82</td>\n",
       "      <td>$382.91</td>\n",
       "      <td>$3.83</td>\n",
       "    </tr>\n",
       "    <tr>\n",
       "      <th>Male</th>\n",
       "      <td>633.0</td>\n",
       "      <td>$2.95</td>\n",
       "      <td>$1,867.68</td>\n",
       "      <td>$4.02</td>\n",
       "    </tr>\n",
       "    <tr>\n",
       "      <th>Other / Non-Disclosed</th>\n",
       "      <td>11.0</td>\n",
       "      <td>$3.25</td>\n",
       "      <td>$35.74</td>\n",
       "      <td>$nan</td>\n",
       "    </tr>\n",
       "  </tbody>\n",
       "</table>\n",
       "</div>"
      ],
      "text/plain": [
       "                      Purchase Count Average Purchase Price  \\\n",
       "Female                         136.0                  $2.82   \n",
       "Male                           633.0                  $2.95   \n",
       "Other / Non-Disclosed           11.0                  $3.25   \n",
       "\n",
       "                      Total Purchase Value Normalized Totals  \n",
       "Female                             $382.91             $3.83  \n",
       "Male                             $1,867.68             $4.02  \n",
       "Other / Non-Disclosed               $35.74              $nan  "
      ]
     },
     "execution_count": 58,
     "metadata": {},
     "output_type": "execute_result"
    }
   ],
   "source": [
    "# Run basic calculations\n",
    "gender_purchase_total = purchase_data.groupby([\"Gender\"]).sum()[\"Price\"].rename(\"Total Purchase Value\")\n",
    "gender_average = purchase_data.groupby([\"Gender\"]).mean()[\"Price\"].rename(\"Average Purchase Price\")\n",
    "gender_counts = purchase_data.groupby([\"Gender\"]).count()[\"Price\"].rename(\"Purchase Count\")\n",
    "\n",
    "normalized_total = gender_purchase_total / final_gender_df[\"Player Count\"]\n",
    "\n",
    "gender_data = pd.DataFrame({\"Purchase Count\": gender_counts, \"Average Purchase Price\": gender_average, \"Total Purchase Value\": gender_purchase_total, \"Normalized Totals\": normalized_total})\n",
    "\n",
    "gender_data[\"Average Purchase Price\"] = gender_data[\"Average Purchase Price\"].map(\"${:,.2f}\".format)\n",
    "gender_data[\"Total Purchase Value\"] = gender_data[\"Total Purchase Value\"].map(\"${:,.2f}\".format)\n",
    "gender_data [\"Purchase Count\"] = gender_data[\"Purchase Count\"].map(\"{:,}\".format)\n",
    "gender_data[\"Normalized Totals\"] = gender_data[\"Normalized Totals\"].map(\"${:,.2f}\".format)\n",
    "gender_data = gender_data.loc[:, [\"Purchase Count\", \"Average Purchase Price\", \"Total Purchase Value\", \"Normalized Totals\"]]\n",
    "\n",
    "gender_data.head(3)\n"
   ]
  },
  {
   "cell_type": "markdown",
   "metadata": {},
   "source": [
    "# Age Demographics"
   ]
  },
  {
   "cell_type": "code",
   "execution_count": 59,
   "metadata": {},
   "outputs": [],
   "source": [
    "#The below each broken into bins of 4 years (i.e. &lt;10, 10-14, 15-19, etc.)\n",
    "#Purchase Count\n",
    "#Average Purchase Price\n",
    "#Total Purchase Value\n",
    "#Normalized Totals"
   ]
  },
  {
   "cell_type": "code",
   "execution_count": 60,
   "metadata": {},
   "outputs": [
    {
     "data": {
      "text/html": [
       "<div>\n",
       "<style scoped>\n",
       "    .dataframe tbody tr th:only-of-type {\n",
       "        vertical-align: middle;\n",
       "    }\n",
       "\n",
       "    .dataframe tbody tr th {\n",
       "        vertical-align: top;\n",
       "    }\n",
       "\n",
       "    .dataframe thead th {\n",
       "        text-align: right;\n",
       "    }\n",
       "</style>\n",
       "<table border=\"1\" class=\"dataframe\">\n",
       "  <thead>\n",
       "    <tr style=\"text-align: right;\">\n",
       "      <th></th>\n",
       "      <th>Total Count</th>\n",
       "      <th>Percentage of Players</th>\n",
       "    </tr>\n",
       "    <tr>\n",
       "      <th>Age Groups</th>\n",
       "      <th></th>\n",
       "      <th></th>\n",
       "    </tr>\n",
       "  </thead>\n",
       "  <tbody>\n",
       "    <tr>\n",
       "      <th>Under 10</th>\n",
       "      <td>32</td>\n",
       "      <td>4.10%</td>\n",
       "    </tr>\n",
       "    <tr>\n",
       "      <th>10 - 14</th>\n",
       "      <td>78</td>\n",
       "      <td>10.00%</td>\n",
       "    </tr>\n",
       "    <tr>\n",
       "      <th>15 - 19</th>\n",
       "      <td>184</td>\n",
       "      <td>23.59%</td>\n",
       "    </tr>\n",
       "    <tr>\n",
       "      <th>20 - 24</th>\n",
       "      <td>305</td>\n",
       "      <td>39.10%</td>\n",
       "    </tr>\n",
       "    <tr>\n",
       "      <th>25 - 29</th>\n",
       "      <td>76</td>\n",
       "      <td>9.74%</td>\n",
       "    </tr>\n",
       "    <tr>\n",
       "      <th>30 - 34</th>\n",
       "      <td>58</td>\n",
       "      <td>7.44%</td>\n",
       "    </tr>\n",
       "    <tr>\n",
       "      <th>35 - 39</th>\n",
       "      <td>44</td>\n",
       "      <td>5.64%</td>\n",
       "    </tr>\n",
       "    <tr>\n",
       "      <th>Over 40</th>\n",
       "      <td>3</td>\n",
       "      <td>0.38%</td>\n",
       "    </tr>\n",
       "  </tbody>\n",
       "</table>\n",
       "</div>"
      ],
      "text/plain": [
       "            Total Count Percentage of Players\n",
       "Age Groups                                   \n",
       "Under 10             32                 4.10%\n",
       "10 - 14              78                10.00%\n",
       "15 - 19             184                23.59%\n",
       "20 - 24             305                39.10%\n",
       "25 - 29              76                 9.74%\n",
       "30 - 34              58                 7.44%\n",
       "35 - 39              44                 5.64%\n",
       "Over 40               3                 0.38%"
      ]
     },
     "execution_count": 60,
     "metadata": {},
     "output_type": "execute_result"
    }
   ],
   "source": [
    "#initialize bins\n",
    "bins = [0,10,15,20,25,30,35,40,200]\n",
    "binGroup = ['Under 10', '10 - 14', '15 - 19', '20 - 24', '25 - 29', '30 - 34', '35 - 39', 'Over 40']\n",
    "\n",
    "bin_df = purchase_data.copy()\n",
    "bin_df[\"Age Groups\"] = pd.cut(bin_df[\"Age\"], bins, labels=binGroup)\n",
    "group_bin = bin_df.groupby([\"Age Groups\"])\n",
    "\n",
    "# Data manipulation\n",
    "bin_count = group_bin[\"SN\"].count()\n",
    "countTotal = bin_df[\"SN\"].count()\n",
    "percentage = (bin_count / countTotal) * 100\n",
    "percentage\n",
    "\n",
    "# Create new DataFrame\n",
    "age_percent = pd.DataFrame({\"Total Count\": bin_count,\n",
    "                         \"Percentage of Players\": percentage})\n",
    "\n",
    "# DataFrame formatting\n",
    "age_percent[\"Percentage of Players\"] = age_percent[\"Percentage of Players\"].map(\"{:.2f}%\".format)\n",
    "age_percent"
   ]
  },
  {
   "cell_type": "markdown",
   "metadata": {},
   "source": [
    "# Top Spenders"
   ]
  },
  {
   "cell_type": "code",
   "execution_count": 16,
   "metadata": {},
   "outputs": [],
   "source": [
    "#Identify the the top 5 spenders in the game by total purchase value, then list (in a table):\n",
    "#SN\n",
    "#Purchase Count\n",
    "#Average Purchase Price\n",
    "#Total Purchase Value"
   ]
  },
  {
   "cell_type": "code",
   "execution_count": 61,
   "metadata": {},
   "outputs": [
    {
     "data": {
      "text/html": [
       "<div>\n",
       "<style scoped>\n",
       "    .dataframe tbody tr th:only-of-type {\n",
       "        vertical-align: middle;\n",
       "    }\n",
       "\n",
       "    .dataframe tbody tr th {\n",
       "        vertical-align: top;\n",
       "    }\n",
       "\n",
       "    .dataframe thead th {\n",
       "        text-align: right;\n",
       "    }\n",
       "</style>\n",
       "<table border=\"1\" class=\"dataframe\">\n",
       "  <thead>\n",
       "    <tr style=\"text-align: right;\">\n",
       "      <th></th>\n",
       "      <th>Purchase Count</th>\n",
       "      <th>Average Purchase Price</th>\n",
       "      <th>Total Purchase Value</th>\n",
       "    </tr>\n",
       "    <tr>\n",
       "      <th>SN</th>\n",
       "      <th></th>\n",
       "      <th></th>\n",
       "      <th></th>\n",
       "    </tr>\n",
       "  </thead>\n",
       "  <tbody>\n",
       "    <tr>\n",
       "      <th>Undirrala66</th>\n",
       "      <td>5</td>\n",
       "      <td>3.412000</td>\n",
       "      <td>17.06</td>\n",
       "    </tr>\n",
       "    <tr>\n",
       "      <th>Saedue76</th>\n",
       "      <td>4</td>\n",
       "      <td>3.390000</td>\n",
       "      <td>13.56</td>\n",
       "    </tr>\n",
       "    <tr>\n",
       "      <th>Mindimnya67</th>\n",
       "      <td>4</td>\n",
       "      <td>3.185000</td>\n",
       "      <td>12.74</td>\n",
       "    </tr>\n",
       "    <tr>\n",
       "      <th>Haellysu29</th>\n",
       "      <td>3</td>\n",
       "      <td>4.243333</td>\n",
       "      <td>12.73</td>\n",
       "    </tr>\n",
       "    <tr>\n",
       "      <th>Eoda93</th>\n",
       "      <td>3</td>\n",
       "      <td>3.860000</td>\n",
       "      <td>11.58</td>\n",
       "    </tr>\n",
       "  </tbody>\n",
       "</table>\n",
       "</div>"
      ],
      "text/plain": [
       "             Purchase Count  Average Purchase Price  Total Purchase Value\n",
       "SN                                                                       \n",
       "Undirrala66               5                3.412000                 17.06\n",
       "Saedue76                  4                3.390000                 13.56\n",
       "Mindimnya67               4                3.185000                 12.74\n",
       "Haellysu29                3                4.243333                 12.73\n",
       "Eoda93                    3                3.860000                 11.58"
      ]
     },
     "execution_count": 61,
     "metadata": {},
     "output_type": "execute_result"
    }
   ],
   "source": [
    "player_purchase_count = purchase_data.groupby(\"SN\").count()[\"Price\"].rename(\"Purchase Count\")\n",
    "player_average_spend = purchase_data.groupby(\"SN\").mean()[\"Price\"].rename(\"Average Purchase Price\")\n",
    "players = purchase_data.groupby(\"SN\").sum()[\"Price\"].rename(\"Total Purchase Value\")\n",
    "\n",
    "total_user_data_df = pd.DataFrame({\"Purchase Count\":player_purchase_count,\n",
    "                                   \"Average Purchase Price\": player_average_spend,\n",
    "                                   \"Total Purchase Value\": players})\n",
    "\n",
    "top_spenders = total_user_data_df.sort_values(\"Total Purchase Value\", ascending=False)\n",
    "top_spenders.head()"
   ]
  },
  {
   "cell_type": "markdown",
   "metadata": {},
   "source": [
    "# Most Popular Items"
   ]
  },
  {
   "cell_type": "code",
   "execution_count": 62,
   "metadata": {},
   "outputs": [],
   "source": [
    "#Identify the 5 most popular items by purchase count, then list (in a table):\n",
    "#Item ID\n",
    "#Item Name\n",
    "#Purchase Count\n",
    "#Item Price\n",
    "#Total Purchase Value\n",
    "\n",
    "##Note that the below counts were arrived at by factoring an item with the same Item Name but a different Item ID as separate items. "
   ]
  },
  {
   "cell_type": "code",
   "execution_count": 72,
   "metadata": {},
   "outputs": [
    {
     "data": {
      "text/html": [
       "<div>\n",
       "<style scoped>\n",
       "    .dataframe tbody tr th:only-of-type {\n",
       "        vertical-align: middle;\n",
       "    }\n",
       "\n",
       "    .dataframe tbody tr th {\n",
       "        vertical-align: top;\n",
       "    }\n",
       "\n",
       "    .dataframe thead th {\n",
       "        text-align: right;\n",
       "    }\n",
       "</style>\n",
       "<table border=\"1\" class=\"dataframe\">\n",
       "  <thead>\n",
       "    <tr style=\"text-align: right;\">\n",
       "      <th></th>\n",
       "      <th></th>\n",
       "      <th>Purchase Count</th>\n",
       "      <th>Item Price</th>\n",
       "      <th>Total Purchase Value</th>\n",
       "    </tr>\n",
       "    <tr>\n",
       "      <th>Item ID</th>\n",
       "      <th>Item Name</th>\n",
       "      <th></th>\n",
       "      <th></th>\n",
       "      <th></th>\n",
       "    </tr>\n",
       "  </thead>\n",
       "  <tbody>\n",
       "    <tr>\n",
       "      <th>39</th>\n",
       "      <th>Betrayal, Whisper of Grieving Widows</th>\n",
       "      <td>11</td>\n",
       "      <td>2.35</td>\n",
       "      <td>25.85</td>\n",
       "    </tr>\n",
       "    <tr>\n",
       "      <th>84</th>\n",
       "      <th>Arcane Gem</th>\n",
       "      <td>11</td>\n",
       "      <td>2.23</td>\n",
       "      <td>24.53</td>\n",
       "    </tr>\n",
       "    <tr>\n",
       "      <th>31</th>\n",
       "      <th>Trickster</th>\n",
       "      <td>9</td>\n",
       "      <td>2.07</td>\n",
       "      <td>18.63</td>\n",
       "    </tr>\n",
       "    <tr>\n",
       "      <th>175</th>\n",
       "      <th>Woeful Adamantite Claymore</th>\n",
       "      <td>9</td>\n",
       "      <td>1.24</td>\n",
       "      <td>11.16</td>\n",
       "    </tr>\n",
       "    <tr>\n",
       "      <th>13</th>\n",
       "      <th>Serenity</th>\n",
       "      <td>9</td>\n",
       "      <td>1.49</td>\n",
       "      <td>13.41</td>\n",
       "    </tr>\n",
       "  </tbody>\n",
       "</table>\n",
       "</div>"
      ],
      "text/plain": [
       "                                              Purchase Count  Item Price  \\\n",
       "Item ID Item Name                                                          \n",
       "39      Betrayal, Whisper of Grieving Widows              11        2.35   \n",
       "84      Arcane Gem                                        11        2.23   \n",
       "31      Trickster                                          9        2.07   \n",
       "175     Woeful Adamantite Claymore                         9        1.24   \n",
       "13      Serenity                                           9        1.49   \n",
       "\n",
       "                                              Total Purchase Value  \n",
       "Item ID Item Name                                                   \n",
       "39      Betrayal, Whisper of Grieving Widows                 25.85  \n",
       "84      Arcane Gem                                           24.53  \n",
       "31      Trickster                                            18.63  \n",
       "175     Woeful Adamantite Claymore                           11.16  \n",
       "13      Serenity                                             13.41  "
      ]
     },
     "execution_count": 72,
     "metadata": {},
     "output_type": "execute_result"
    }
   ],
   "source": [
    "items_purchase_count = purchase_data.groupby([\"Item ID\", \"Item Name\"]).count()[\"Price\"].rename(\"Purchase Count\")\n",
    "items_average_price = purchase_data.groupby([\"Item ID\", \"Item Name\"]).mean()[\"Price\"].rename(\"Average Purchase Price\")\n",
    "items_value_total = purchase_data.groupby([\"Item ID\", \"Item Name\"]).sum()[\"Price\"].rename(\"Total Purchase Value\")\n",
    "\n",
    "items_purchased = pd.DataFrame({\"Purchase Count\":items_purchase_count,\n",
    "                                   \"Item Price\":items_average_price,\n",
    "                                   \"Total Purchase Value\":items_value_total,})\n",
    "\n",
    "count_items_purchased_final = items_purchased.sort_values(\"Purchase Count\", ascending=False)\n",
    "count_items_purchased_final.head()"
   ]
  },
  {
   "cell_type": "markdown",
   "metadata": {},
   "source": [
    "# Most Profitable Items"
   ]
  },
  {
   "cell_type": "code",
   "execution_count": 74,
   "metadata": {},
   "outputs": [],
   "source": [
    "#Identify the 5 most profitable items by total purchase value, then list (in a table):\n",
    "#Item ID\n",
    "#Item Name\n",
    "#Purchase Count\n",
    "#Item Price\n",
    "#Total Purchase Value"
   ]
  },
  {
   "cell_type": "code",
   "execution_count": 75,
   "metadata": {},
   "outputs": [
    {
     "data": {
      "text/html": [
       "<div>\n",
       "<style scoped>\n",
       "    .dataframe tbody tr th:only-of-type {\n",
       "        vertical-align: middle;\n",
       "    }\n",
       "\n",
       "    .dataframe tbody tr th {\n",
       "        vertical-align: top;\n",
       "    }\n",
       "\n",
       "    .dataframe thead th {\n",
       "        text-align: right;\n",
       "    }\n",
       "</style>\n",
       "<table border=\"1\" class=\"dataframe\">\n",
       "  <thead>\n",
       "    <tr style=\"text-align: right;\">\n",
       "      <th></th>\n",
       "      <th></th>\n",
       "      <th>Purchase Count</th>\n",
       "      <th>Item Price</th>\n",
       "      <th>Total Purchase Value</th>\n",
       "    </tr>\n",
       "    <tr>\n",
       "      <th>Item ID</th>\n",
       "      <th>Item Name</th>\n",
       "      <th></th>\n",
       "      <th></th>\n",
       "      <th></th>\n",
       "    </tr>\n",
       "  </thead>\n",
       "  <tbody>\n",
       "    <tr>\n",
       "      <th>34</th>\n",
       "      <th>Retribution Axe</th>\n",
       "      <td>9</td>\n",
       "      <td>4.14</td>\n",
       "      <td>37.26</td>\n",
       "    </tr>\n",
       "    <tr>\n",
       "      <th>115</th>\n",
       "      <th>Spectral Diamond Doomblade</th>\n",
       "      <td>7</td>\n",
       "      <td>4.25</td>\n",
       "      <td>29.75</td>\n",
       "    </tr>\n",
       "    <tr>\n",
       "      <th>32</th>\n",
       "      <th>Orenmir</th>\n",
       "      <td>6</td>\n",
       "      <td>4.95</td>\n",
       "      <td>29.70</td>\n",
       "    </tr>\n",
       "    <tr>\n",
       "      <th>103</th>\n",
       "      <th>Singed Scalpel</th>\n",
       "      <td>6</td>\n",
       "      <td>4.87</td>\n",
       "      <td>29.22</td>\n",
       "    </tr>\n",
       "    <tr>\n",
       "      <th>107</th>\n",
       "      <th>Splitter, Foe Of Subtlety</th>\n",
       "      <td>8</td>\n",
       "      <td>3.61</td>\n",
       "      <td>28.88</td>\n",
       "    </tr>\n",
       "  </tbody>\n",
       "</table>\n",
       "</div>"
      ],
      "text/plain": [
       "                                    Purchase Count  Item Price  \\\n",
       "Item ID Item Name                                                \n",
       "34      Retribution Axe                          9        4.14   \n",
       "115     Spectral Diamond Doomblade               7        4.25   \n",
       "32      Orenmir                                  6        4.95   \n",
       "103     Singed Scalpel                           6        4.87   \n",
       "107     Splitter, Foe Of Subtlety                8        3.61   \n",
       "\n",
       "                                    Total Purchase Value  \n",
       "Item ID Item Name                                         \n",
       "34      Retribution Axe                            37.26  \n",
       "115     Spectral Diamond Doomblade                 29.75  \n",
       "32      Orenmir                                    29.70  \n",
       "103     Singed Scalpel                             29.22  \n",
       "107     Splitter, Foe Of Subtlety                  28.88  "
      ]
     },
     "execution_count": 75,
     "metadata": {},
     "output_type": "execute_result"
    }
   ],
   "source": [
    "value_items_purchased_final = items_purchased.sort_values(\"Total Purchase Value\", ascending=False)\n",
    "value_items_purchased_final.head()"
   ]
  }
 ],
 "metadata": {
  "kernelspec": {
   "display_name": "Python 3",
   "language": "python",
   "name": "python3"
  },
  "language_info": {
   "codemirror_mode": {
    "name": "ipython",
    "version": 3
   },
   "file_extension": ".py",
   "mimetype": "text/x-python",
   "name": "python",
   "nbconvert_exporter": "python",
   "pygments_lexer": "ipython3",
   "version": "3.6.5"
  }
 },
 "nbformat": 4,
 "nbformat_minor": 2
}
